{
  "nbformat": 4,
  "nbformat_minor": 2,
  "metadata": {
    "colab": {
      "name": "Practice_5_KM-03_.ipynb",
      "provenance": [],
      "collapsed_sections": []
    },
    "kernelspec": {
      "name": "python3",
      "display_name": "Python 3.9.7 64-bit"
    },
    "language_info": {
      "name": "python",
      "version": "3.9.7",
      "mimetype": "text/x-python",
      "codemirror_mode": {
        "name": "ipython",
        "version": 3
      },
      "pygments_lexer": "ipython3",
      "nbconvert_exporter": "python",
      "file_extension": ".py"
    },
    "interpreter": {
      "hash": "805120b51a3f77eca58c261c908e1fdecc6169435121133176eb68ffe9086f03"
    }
  },
  "cells": [
    {
      "cell_type": "markdown",
      "source": [
        "# **Курс \"Програмування на мові Python\"**"
      ],
      "metadata": {
        "id": "FMqboNwO4rVs"
      }
    },
    {
      "cell_type": "markdown",
      "source": [
        "## **Практичне зайняття №6**\n",
        "### Тема: \"Робота з кортежами, множинами та словниками\""
      ],
      "metadata": {
        "id": "A2T6MigL5Z06"
      }
    },
    {
      "cell_type": "markdown",
      "source": [
        "### **Завдання 1 (1,5 бали)**\r\n",
        "\r\n",
        "Напишіть програму, яка визначала б, чи можна з літер однієї фрази скласти іншу фразу. Наприклад:\r\n",
        "\r\n",
        "\"William Shakespeare\" -> \"A small spark\"\r\n",
        "\r\n",
        "Перша фраза містить 11 унікальних літер (хоча деякі повторюються): a, e, h, i, k, l, m, p, r, s та w. Друга фраза містить 7 унікальних літер: a, k, l, m, p, r та s. Кожна з літер другої фрази зустрічається принаймні один раз у першій фразі.\r\n",
        "\r\n",
        "1. Обидві фрази повинні вводитись користувачем з клавіатури.\r\n",
        "\r\n",
        "2. Скористайтесь властивістю множин у мові програмування Python для виділення колекції унікальних літер.\r\n",
        "\r\n",
        "3. У множину не повинні потрапити пробіли, розділові знаки та інші символи, що не є літерами (скористайтесь методом **isalpha()**). Також усі літери мають бути переведені в нижній або верхній регістр (скористайтесь методами **lower()** або **upper()**).\r\n",
        "\r\n",
        "4. Зверніть увагу на те, що літери як в першій, так і вдругій фразі можуть повторюватись. Однак множина унікальних літер другої фрази повинна бути підмножиною множини унікальних літер першої фрази.\r\n",
        "\r\n",
        "5. У складі змістовного повідомлення програма повинна виводити множину літер першої фрази, множину літер другої фрази, а також змістовне повідомлення про те, чи можна скласти з літер першої фрази другу фразу."
      ],
      "metadata": {
        "id": "4AV5CN7N4xja"
      }
    },
    {
      "cell_type": "code",
      "execution_count": 39,
      "source": [
        "phrase1 = set((input(\"Enter phrase 1: \")).lower())\r\n",
        "phrase2 = set((input(\"Enter phrase 2: \")).lower())\r\n",
        "if (\" \" in phrase1 and \",\" in phrase1):\r\n",
        "    phrase1.remove(\",\")\r\n",
        "    phrase1.remove(\" \")\r\n",
        "if (\" \" in phrase2 and \",\" in phrase2):\r\n",
        "    phrase2.remove(\",\")\r\n",
        "    phrase2.remove(\" \")\r\n",
        "print(phrase1, phrase2, sep = \"\\n\")\r\n",
        "if phrase2.issubset(phrase1):\r\n",
        "    print(\"You can make a phrase \" + str(phrase2) + \" using letters from the first phrase\")\r\n",
        "else:\r\n",
        "    print(\"You can NOT make a phrase \" + str(phrase2) + \" using letters from the first phrase, sorry\")\r\n"
      ],
      "outputs": [
        {
          "output_type": "stream",
          "name": "stdout",
          "text": [
            "{'s', 'm', ' ', 't', 'e', 'a'}\n",
            "{'i', 'g', 'k', 'n'}\n",
            "You can NOT make a phrase {'i', 'g', 'k', 'n'} using letters from the first phrase, sorry\n"
          ]
        }
      ],
      "metadata": {
        "id": "9Mesp1jV4xjb"
      }
    },
    {
      "cell_type": "markdown",
      "source": [
        "### **Завдання 2 (1,5 бали)**\n",
        "\n",
        "Скрабл (Ерудит) - це настільна гра, в якій від 2 до 4 гравців складають слова з наявних літер на полі розміром 15 х 15. За кожну використану літеру гравець отримує певну кількість балів. Перелік літер та балів, які можна отримати за використання цих літер, подано у таблиці.\n",
        "\n",
        "Бали | Літери\n",
        "--- | ---\n",
        "1 | A, E, I, L, N, O, R, S, T, U\n",
        "2 | D, G\n",
        "3 | B, C, M, P\n",
        "4 | F, H, V, W, Y\n",
        "5 | K\n",
        "8 | J, X\n",
        "10 | Q, Z\n",
        "\n",
        "Напишіть програму, яка підраховує та виводить загальну кількість балів, яку можна отримати за слово, введене користувачем з клавіатури.\n",
        "\n",
        "1. Скористайтесь словником для збереження усіх балів та літер, за які ці бали нараховуються. \n",
        "\n",
        "2. Якщо користувач введе кілька слів, виведіть бали, які можна отримати за кожне з них окремо.\n",
        "\n",
        "3. Якщо користувач введе символи, що не є літерами (окрім пробіла, який можна використовувати для розділення слів), програма має їх ігнорувати.\n",
        "\n",
        "4. Програма повинна приймати літери як верхнього, так і нижнього регістрів.\n",
        "\n",
        "Наприклад, якщо користувач введе \"Hello, World!\", програма повинна вивести:\n",
        "\n",
        "8 9\n",
        "\n",
        "або більш розгорнутий варіант (за бажанням):\n",
        "\n",
        "4+1+1+1+1=8\n",
        "\n",
        "4+1+1+1+2=9"
      ],
      "metadata": {
        "id": "t7fqn1NN-J7z"
      }
    },
    {
      "cell_type": "code",
      "execution_count": 44,
      "source": [
        "scr = { \"a\": 1, \"e\": 1, \"i\": 1, \"l\": 1, \"n\": 1, \"o\": 1, \"r\": 1, \"s\": 1, \"t\": 1, \"u\": 1,\r\n",
        "        \"d\": 2, \"g\": 2, \r\n",
        "        \"b\": 3, \"c\": 3, \"m\": 3, \"p\": 3, \r\n",
        "        \"f\": 4, \"h\": 4, \"v\": 4, \"w\": 4, \"y\":4,\r\n",
        "        \"k\": 5,\r\n",
        "        \"j\": 8, \"x\": 8,\r\n",
        "        \"q\": 10, \"z\":10\r\n",
        "}\r\n",
        "\r\n",
        "word = input(\"Enter a word or a phrase: \").lower()\r\n",
        "word = word.split()\r\n",
        "result = []\r\n",
        "for i in range(len(word)):\r\n",
        "    score = 0\r\n",
        "    for k in word[i]:\r\n",
        "        try:\r\n",
        "            score += scr[k]\r\n",
        "        except:\r\n",
        "            continue\r\n",
        "    result += [score]\r\n",
        "\r\n",
        "print(result)\r\n",
        "    "
      ],
      "outputs": [
        {
          "output_type": "stream",
          "name": "stdout",
          "text": [
            "[4]\n"
          ]
        }
      ],
      "metadata": {
        "id": "EVY800vg4xjg"
      }
    }
  ]
}