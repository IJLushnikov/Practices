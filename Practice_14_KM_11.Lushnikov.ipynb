{
  "cells": [
    {
      "cell_type": "markdown",
      "metadata": {
        "id": "FMqboNwO4rVs"
      },
      "source": [
        "# **Курс \"Програмування на мові Python\"**"
      ]
    },
    {
      "cell_type": "markdown",
      "metadata": {
        "id": "A2T6MigL5Z06"
      },
      "source": [
        "## **Практичне зайняття №14**\n",
        "\n",
        "### Тема: \"Робота зі спеціальними форматами файлів\""
      ]
    },
    {
      "cell_type": "markdown",
      "metadata": {
        "id": "A34oz70eU463"
      },
      "source": [
        "### **Завдання 1 (1,5 бали)**\n",
        "\n",
        "Створіть CSV-файл, що буде містити від 5 до 10 пісень (творів) вашого улюбленого музиканта. Назва файлу - ім'я музиканта (композитора) або назва гурту.\n",
        "\n",
        "1. Обов'язково додайте до файлу рядок з назвами двох колонок (Song, Year) або (Composition, Year).\n",
        "\n",
        "2. Після запису файлу роздрукуйте назву файлу та усі наявні у файлі рядки (включно із заголовками).\n",
        "\n",
        "3. Для запису та зчитування рядків скористайтесь функціями csv.DictWriter() та csv.DictReader()."
      ]
    },
    {
      "cell_type": "code",
      "execution_count": 15,
      "metadata": {
        "id": "MEJIrG1GU463"
      },
      "outputs": [
        {
          "name": "stdout",
          "output_type": "stream",
          "text": [
            "['Song', 'Year']\n",
            "Tear of the Goddess 2017\n",
            "Frozen Heart 2017\n",
            "Redemption 2021\n",
            "Executioner's Calling 2021\n",
            "Last Whisper 2014\n",
            "Lightbringer 2021\n"
          ]
        }
      ],
      "source": [
        "import csv \n",
        "with open('Pentakill.csv', \"w\", newline ='') as csvfile:\n",
        "    columns = ['Song','Year']\n",
        "    writer = csv.DictWriter(csvfile, fieldnames=columns)\n",
        "    writer.writeheader()\n",
        "    writer.writerow({'Song': \"Tear of the Goddess\",\n",
        "                              'Year': \"2017\"})\n",
        "    writer.writerow({'Song': \"Frozen Heart\",\n",
        "                              'Year': \"2017\"})\n",
        "    writer.writerow({'Song': \"Redemption\",\n",
        "                              'Year': \"2021\"})\n",
        "    writer.writerow({'Song': \"Executioner's Calling\",\n",
        "                              'Year': \"2021\"})\n",
        "    writer.writerow({'Song': \"Last Whisper\",\n",
        "                              'Year': \"2014\"}) \n",
        "    writer.writerow({'Song': \"Lightbringer\",\n",
        "                              'Year': \"2021\"})\n",
        "    reader = csv.DictReader(csvfile)\n",
        "\n",
        "with open('Pentakill.csv', newline='') as csvfile:\n",
        "    reader = csv.DictReader(csvfile)\n",
        "    print(columns)\n",
        "    for row in reader:\n",
        "        print(row['Song'], row['Year'])   \n",
        "    "
      ]
    },
    {
      "cell_type": "markdown",
      "metadata": {
        "id": "Jb-eSBsWU464"
      },
      "source": [
        "### **Завдання 2 (1,5 бали)**\n",
        "\n",
        "COCO Dataset - набір фотографій та анотацій до них. Його дуже часто використовують для тренування класифікаторів, призначених для розпізнавання об'єктів та визначення ключових точок на зображеннях.\n",
        "\n",
        "Завантажте файли з описом фотографій COCO Dataset за посиланням: [COCO Dataset](http://images.cocodataset.org/annotations/image_info_test2017.zip).\n",
        "\n",
        "Відкрийте файл image_info_test-dev2017.json. Інформація про фотографії з бази COCO міститься у полі \"images\". Інформація про категорії, на які розділені всі фотографії, міститься у полі \"categories\".\n",
        "\n",
        "1. Визначте кількість фотографій, інформацію про які можна знайти у цьому файлі (кількість елементів, що відповідають ключу \"images\").\n",
        "\n",
        "2. Визначте кількість наявних категорій (кількість елементів, що відповідають ключу \"categories\").\n",
        "\n",
        "3. Виведіть посилання на фотографію 000000000001.jpg (\"coco_url\"). Також виведіть висоту цієї фотографії (\"height\"), ширину (\"width\") та її ідентифікатор (\"id\").\n",
        "\n",
        "4. Виведіть назву фотографії з набільшим номером.\n",
        "\n",
        "Опис структури JSON-файлу для набору фотографій COCO можна знайти за посиланням: [Data format](https://cocodataset.org/#format-data).\n",
        "\n",
        "Щоб перевірити правильність результатів, у VS Code встановіть розширення JSON та відкрийте файл image_info_test-dev2017.json. Розширення автоматично визначає кількість елементів у кожному полі."
      ]
    },
    {
      "cell_type": "code",
      "execution_count": 21,
      "metadata": {},
      "outputs": [
        {
          "name": "stdout",
          "output_type": "stream",
          "text": [
            "There are this much photos in the file 20288\n",
            "There are this much categories in  the file 80\n",
            "This is a link to photo 000000000001 http://images.cocodataset.org/test2017/000000000001.jpg\n",
            "Width: 640\n",
            "Height: 480\n",
            "Photo id 1\n",
            "The biggest photo number is 581918 for the file 000000581918.jpg\n"
          ]
        }
      ],
      "source": [
        "import json\n",
        "with open('image_info_test-dev2017.json') as jfile:\n",
        "    data = json.load(jfile)\n",
        "    print(\"There are this much photos in the file\", len(data[\"images\"]))\n",
        "    print(\"There are this much categories in  the file\", len(data[\"categories\"]))\n",
        "    photo_numbers=[]\n",
        "    for elem in data[\"images\"]:\n",
        "        if elem[\"file_name\"]==\"000000000001.jpg\":\n",
        "            print(\"This is a link to photo 000000000001\",elem[\"coco_url\"])\n",
        "            print(\"Width:\",elem[\"width\"])\n",
        "            print(\"Height:\",elem[\"height\"])\n",
        "            print(\"Photo id\",elem[\"id\"])\n",
        "        photo_numbers.append(int(elem[\"file_name\"].replace(\".jpg\",\"\")))\n",
        "    for elem in data[\"images\"]:    \n",
        "        if int(elem[\"file_name\"].replace(\".jpg\",\"\"))==max(photo_numbers):\n",
        "            print(\"The biggest photo number is\", max(photo_numbers), \"for the file\", elem[\"file_name\"])    "
      ]
    }
  ],
  "metadata": {
    "colab": {
      "collapsed_sections": [],
      "name": "Practice_14_KM_01.ipynb",
      "provenance": []
    },
    "kernelspec": {
      "display_name": "Python 3",
      "name": "python3"
    },
    "language_info": {
      "codemirror_mode": {
        "name": "ipython",
        "version": 3
      },
      "file_extension": ".py",
      "mimetype": "text/x-python",
      "name": "python",
      "nbconvert_exporter": "python",
      "pygments_lexer": "ipython3",
      "version": "3.9.7"
    }
  },
  "nbformat": 4,
  "nbformat_minor": 0
}
