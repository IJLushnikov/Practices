{
  "nbformat": 4,
  "nbformat_minor": 2,
  "metadata": {
    "colab": {
      "name": "Pranctice_3_KM-01_<name>.ipynb",
      "provenance": [],
      "collapsed_sections": []
    },
    "kernelspec": {
      "name": "python3",
      "display_name": "Python 3.9.7 64-bit"
    },
    "language_info": {
      "name": "python",
      "version": "3.9.7",
      "mimetype": "text/x-python",
      "codemirror_mode": {
        "name": "ipython",
        "version": 3
      },
      "pygments_lexer": "ipython3",
      "nbconvert_exporter": "python",
      "file_extension": ".py"
    },
    "interpreter": {
      "hash": "805120b51a3f77eca58c261c908e1fdecc6169435121133176eb68ffe9086f03"
    }
  },
  "cells": [
    {
      "cell_type": "markdown",
      "source": [
        "# **Курс \"Програмування на мові Python\"**"
      ],
      "metadata": {
        "id": "1bRxWHr5e8kt"
      }
    },
    {
      "cell_type": "markdown",
      "source": [
        "## **Практичне зайняття №3**\n",
        "### Тема: \"Перші програми на Python. Введення та виведення даних. Інструкція if\""
      ],
      "metadata": {
        "id": "buZUwUgFe-kx"
      }
    },
    {
      "cell_type": "markdown",
      "source": [
        "### **Завдання 1 (1,5 бали)**\n",
        "\n"
      ],
      "metadata": {
        "id": "PUkxEn8EfAUe"
      }
    },
    {
      "cell_type": "markdown",
      "source": [
        "**Написати програму введення та виведення даних про одержувача листа (посилки) за стандартами Укрпошти.**\n",
        "\n",
        "1. Усі запити на введення даних повинні супроводжуватись відповідними підказками-поясненнями (бажано англійською мовою).\n",
        "\n",
        "2. Дані мають виводитись так, як показано нижче (з урахуванням кількості рядків та послідовності даних у кожному з них).\n",
        "\n",
        "3. Дані, виділені жирним шрифтом, повинні вводитись із клавіатури. Всього має бути 9 окремих команд введення даних\n",
        "\n",
        "4. Назви змінних повинні бути інформативними та оформленими відповідно до правил іменування змінних\n",
        "\n",
        "5. Додати 2 коментарі, що вказують на блоки введення та виведення даних.\n",
        "\n",
        "***Формат виведення даних:***\n",
        "\n",
        "(1) **Ім'я** (2) **Прізвище**\n",
        "\n",
        "(3) **Номер телефону**\n",
        "\n",
        "Str. (4) **Назва вулиці** (5) **Номер будинку**, ap. (6) **Номер квартири**, (7) **Місто**\n",
        "\n",
        "(8) **Індекс**\n",
        "\n",
        "(9) **Країна**\n",
        "\n",
        "***Приклад виведення:***\n",
        "\n",
        "*Lucas Diallo*\n",
        "\n",
        "*3221234567*\n",
        "\n",
        "*Str. Longue 3, ap. 5, Bruxelles*\n",
        "\n",
        "*1020*\n",
        "\n",
        "*Belgium*"
      ],
      "metadata": {
        "id": "M7jjwxAvfKa2"
      }
    },
    {
      "cell_type": "code",
      "execution_count": 4,
      "source": [
        "nm = input(\"Your name: \")\r\n",
        "snm = input(\"Your surname: \")\r\n",
        "phone = input(\"Your phone number: \")\r\n",
        "street = input(\" Your street: \")\r\n",
        "house = input(\"Your house number: \")\r\n",
        "flat = input(\"Your flat number: \")\r\n",
        "city = input(\"City you live in: \")\r\n",
        "postind = input(\"Your post index: \")\r\n",
        "country = input(\"Your country: \") #завершення блоку введення даних\r\n",
        "\r\n",
        "print(nm + \" \" + snm)\r\n",
        "print(phone)\r\n",
        "print(\"Str. \" + street + \" \" + house + \", ap. \" + flat + \", \" + city )\r\n",
        "print(postind)\r\n",
        "print(country) #завершення блоку виведення даних"
      ],
      "outputs": [
        {
          "output_type": "stream",
          "name": "stdout",
          "text": [
            "Ivan Olegovich\n",
            "22222222222\n",
            "Str. Pushkina 23, ap. 2, Kyiv\n",
            "1400?\n",
            "Ukraine\n"
          ]
        }
      ],
      "metadata": {}
    },
    {
      "cell_type": "markdown",
      "source": [
        "### **Завдання 2 (1,5 бали)**"
      ],
      "metadata": {
        "id": "WmnpKrmPf689"
      }
    },
    {
      "cell_type": "markdown",
      "source": [
        "Таблиця містить магнітуду землетрусів за шкалою Ріхтера та дескриптори, що їй відповідають.\r\n",
        "\r\n",
        "Магнітуда | Дескриптор\r\n",
        "--- | ---\r\n",
        "Менше, ніж 2 | Micro\r\n",
        "Від 2 до менше ніж 3 | Very minor\r\n",
        "Від 3 до менше ніж 4 | Minor\r\n",
        "Від 4 до менше ніж 5 | Light\r\n",
        "Від 5 до менше ніж 6 | Moderate\r\n",
        "Від 6 до менше ніж 7 | Strong\r\n",
        "Від 7 до менше ніж 8 | Major\r\n",
        "Від 8 до менше ніж 10 | Great\r\n",
        "10 та більше | Meteoric\r\n",
        "\r\n",
        "Напишіть програму, яка буде зчитувати магнітуду, введену користувачем, та виводити відповідний дескриптор як частину змістовного повідомлення. Наприклад, якщо користувач вводить 5.5, ваша програма повинна показати, що землетрус з такою магнітудою є помірним (moderate)."
      ],
      "metadata": {
        "id": "4n4p_pz7gFKM"
      }
    },
    {
      "cell_type": "code",
      "execution_count": 7,
      "source": [
        "mgnt = float(input(\"Input the magnitude of an earthquake: \"))\r\n",
        "if mgnt < 2: \r\n",
        "    print(\" The earthquake is micro\")\r\n",
        "elif mgnt >= 2 and mgnt < 3 : \r\n",
        "    print(\" The earthquake is very minor\")\r\n",
        "elif mgnt >= 3 and mgnt < 4: \r\n",
        "    print(\" The earthquake is minor\")\r\n",
        "elif mgnt >= 4 and mgnt < 5: \r\n",
        "    print(\" The earthquake is light\")\r\n",
        "elif mgnt >= 5 and mgnt < 6: \r\n",
        "    print(\" The earthquake is moderate\")\r\n",
        "elif mgnt >= 6 and mgnt <7: \r\n",
        "    print(\" The earthquake is strong\")\r\n",
        "elif mgnt >= 7 and mgnt < 8: \r\n",
        "    print(\" The earthquake is major\")\r\n",
        "elif mgnt >= 8 and mgnt < 9: \r\n",
        "    print(\" The earthquake is great\")\r\n",
        "else : \r\n",
        "    print(\" The earthquake is meteoric\")"
      ],
      "outputs": [
        {
          "output_type": "stream",
          "name": "stdout",
          "text": [
            " The earthquake is minor\n"
          ]
        }
      ],
      "metadata": {
        "id": "Nv66Jkkpf-sI"
      }
    },
    {
      "cell_type": "markdown",
      "source": [
        "### **Завдання 3 (бонусне, 1 бал)**"
      ],
      "metadata": {
        "id": "X8fC_GM_nMRi"
      }
    },
    {
      "cell_type": "markdown",
      "source": [
        "Часто говорять, що один календарний рік еквівалентний 7 рокам для собаки. Однак таке просте перетворення не враховує того, що собаки досягають повноліття приблизно у 2 роки. Тому деякі люди вважать, що краще рахувати кожен з перших двох календарних років як 10,5 років для собаки, а потім рахувати кожен наступний календарний рік як 4 роки для собаки.\n",
        "\n",
        "Напишіть програму, яка конвертує календарні роки у \"собачі\", як було показано в попередньому абзаці. Переконайтесь, що ваша програма працює правильно, конвертуючи перші два календарні роки та всі подальші. Ваша програма також повинна виводити повідомлення про помилку, якщо користувач введе від'ємне число."
      ],
      "metadata": {
        "id": "b593txPwotgN"
      }
    },
    {
      "cell_type": "code",
      "execution_count": 21,
      "source": [
        "age = float(input(\"Enter your dog's age in human years: \"))\r\n",
        "if age < 0:\r\n",
        "    print(\" Sorry, your dog can't be \" + str(age) + \" years\")\r\n",
        "else:\r\n",
        "    if age <=2:\r\n",
        "        dage= age*10.5\r\n",
        "        print(\" Your dog is \" + str(dage) + \" dog years!\")\r\n",
        "    else:\r\n",
        "        dage = 21 + (age-2)*4\r\n",
        "        print(\" Your dog is \" + str(dage) + \" dog years!\")"
      ],
      "outputs": [
        {
          "output_type": "stream",
          "name": "stdout",
          "text": [
            " Your dog is 97.0 dog years!\n"
          ]
        }
      ],
      "metadata": {
        "id": "PA_E_H0Zosu0"
      }
    }
  ]
}