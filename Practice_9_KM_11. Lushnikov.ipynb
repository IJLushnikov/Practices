{
  "cells": [
    {
      "cell_type": "markdown",
      "metadata": {
        "id": "FMqboNwO4rVs"
      },
      "source": [
        "# **Курс \"Програмування на мові Python\"**"
      ]
    },
    {
      "cell_type": "markdown",
      "metadata": {
        "id": "A2T6MigL5Z06"
      },
      "source": [
        "## **Практичне зайняття №9**\n",
        "\n",
        "### Тема: \"Робота з функціями. Локальні та глобальні змінні\""
      ]
    },
    {
      "cell_type": "markdown",
      "metadata": {
        "id": "cfCdgK2zXm7e"
      },
      "source": [
        "### **Завдання 1 (3 бали)**\n",
        "\n",
        "**Підрахувати визначник матриці, використовуючи правило перестановок.**\n",
        "\n",
        "Функція random_matrix() призначена для створення квадратної матриці випадкових чисел. Її змінювати непотрібно.\n",
        "\n",
        "Приклад використання методу permutations() для створення списку перестановок також подається у комірці з кодом.\n",
        "\n",
        "1) Створити 3 функції: функцію створення списку перестановок, функцію підрахунку добутків та функцію підрахунку загальної суми.\n",
        "\n",
        "2) Кожна функція має супроводжуватись рядком документації, що буде коротко описувати її призначення.\n",
        "\n",
        "3) Розмірність квадратної матриці має вводитись користувачем з клавіатури. Підрахунки виконувати лише в тому разі, якщо користувач введе ціле додатне число.\n",
        "\n",
        "4) Загальний результат повинен підраховуватись за допомогою композиції функцій.\n",
        "\n",
        "За бажанням можна перевірити правильність роботи програми за допомогою функції np.linalg.det(a)."
      ]
    },
    {
      "cell_type": "code",
      "execution_count": 17,
      "metadata": {
        "id": "ifNX2M7LXm7f"
      },
      "outputs": [
        {
          "ename": "ModuleNotFoundError",
          "evalue": "No module named 'numpy'",
          "output_type": "error",
          "traceback": [
            "\u001b[1;31m---------------------------------------------------------------------------\u001b[0m",
            "\u001b[1;31mModuleNotFoundError\u001b[0m                       Traceback (most recent call last)",
            "\u001b[1;32m~\\AppData\\Local\\Temp/ipykernel_13880/806489493.py\u001b[0m in \u001b[0;36m<module>\u001b[1;34m\u001b[0m\n\u001b[1;32m----> 1\u001b[1;33m \u001b[1;32mimport\u001b[0m \u001b[0mnumpy\u001b[0m \u001b[1;32mas\u001b[0m \u001b[0mnp\u001b[0m\u001b[1;33m\u001b[0m\u001b[1;33m\u001b[0m\u001b[0m\n\u001b[0m\u001b[0;32m      2\u001b[0m \u001b[1;32mimport\u001b[0m \u001b[0mitertools\u001b[0m\u001b[1;33m\u001b[0m\u001b[1;33m\u001b[0m\u001b[0m\n\u001b[0;32m      3\u001b[0m \u001b[1;33m\u001b[0m\u001b[0m\n\u001b[0;32m      4\u001b[0m \u001b[1;32mdef\u001b[0m \u001b[0mrandom_matrix\u001b[0m\u001b[1;33m(\u001b[0m\u001b[0mdim\u001b[0m\u001b[1;33m)\u001b[0m\u001b[1;33m:\u001b[0m\u001b[1;33m\u001b[0m\u001b[1;33m\u001b[0m\u001b[0m\n\u001b[0;32m      5\u001b[0m     \"\"\"\n",
            "\u001b[1;31mModuleNotFoundError\u001b[0m: No module named 'numpy'"
          ]
        }
      ],
      "source": [
        "import numpy as np\n",
        "import itertools\n",
        "\n",
        "def random_matrix(dim):\n",
        "    \"\"\"\n",
        "    The function generates dim x dim array of integers\n",
        "    between 0 and 10.\n",
        "    \"\"\"\n",
        "    matrix = np.random.randint(10, size = (dim, dim))\n",
        "    return matrix\n",
        "\n",
        "def permutations(n):\n",
        "    \"\"\" \n",
        "    Пошук всіх перестановок з матриці\n",
        "    \"\"\"\n",
        "    strmat = \"\"\n",
        "    for i in range(0, n):\n",
        "        strmat+=str(i)\n",
        "    #Example of using permutations() method\n",
        "    t = list(itertools.permutations(str(strmat), n))\n",
        "    return t\n",
        "def dobutok(permut, matrix):\n",
        "    \"\"\" Пошук усіх добутків перестановок та їхніх знаків та сум\n",
        "    \"\"\" \n",
        "    sign = []\n",
        "    k = True \n",
        "    for el in range(len(permut)):\n",
        "        s=0\n",
        "        for indt in range(len(permut[el])):\n",
        "            for y in range(1,len(permut[el])):\n",
        "                if y>indt:\n",
        "                    if int(permut[el][indt])>int(permut[el][y]):\n",
        "                        s+=1\n",
        "        if s%2==1:\n",
        "            sign.append(-1)\n",
        "        else:\n",
        "            sign.append(1)\n",
        "    dobut=list()\n",
        "    for j in range(len(permutations(n))):\n",
        "        dob_num=1\n",
        "        for i in range(n):\n",
        "            dob_num *= matrix[i][int(permutations(n)[j][i])]\n",
        "        dobut.append(dob_num)\n",
        "    final_dobutok = 0\n",
        "    for i in range(len(sign)):\n",
        "        final_dobutok += dobut[i]*sign[i] \n",
        "    return final_dobutok\n",
        "    \n",
        "    \n",
        "def intx(x):\n",
        "    \"\"\" \n",
        "    Перевірка введеного n на те, чи є воно цілим додатнім числом\n",
        "    \"\"\"\n",
        "    try:\n",
        "        int(x)\n",
        "    except: \n",
        "        return False\n",
        "    if int(x)>0:\n",
        "        return True\n",
        "\n",
        "n = input(\"Enter the size of your matrix: \")\n",
        "if intx(n)== 1:\n",
        "    n = int(n)\n",
        "    thematrix = random_matrix(n)\n",
        "    maxpermut = 0\n",
        "    for i in range(n):\n",
        "        maxpermut *= i \n",
        "else:\n",
        "    print(\"Invalid number: Can't calculate the determinant\")\n",
        "RESULT = dobutok(permutations(n),random_matrix(n))\n",
        "print(\"Your random matrix is: \\n\", random_matrix(n))\n",
        "print(\"Counting the determinant... \\n The Determinant is: \", RESULT)\n",
        "print(\"The Determinant found by the function in numpy: \", np.linalg.det(thematrix))"
      ]
    }
  ],
  "metadata": {
    "colab": {
      "collapsed_sections": [],
      "name": "Practice_7_KM-01_.ipynb",
      "provenance": []
    },
    "interpreter": {
      "hash": "805120b51a3f77eca58c261c908e1fdecc6169435121133176eb68ffe9086f03"
    },
    "kernelspec": {
      "display_name": "Python 3.9.7 64-bit",
      "name": "python3"
    },
    "language_info": {
      "codemirror_mode": {
        "name": "ipython",
        "version": 3
      },
      "file_extension": ".py",
      "mimetype": "text/x-python",
      "name": "python",
      "nbconvert_exporter": "python",
      "pygments_lexer": "ipython3",
      "version": "3.9.7"
    }
  },
  "nbformat": 4,
  "nbformat_minor": 0
}
